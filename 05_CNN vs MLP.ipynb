{
 "cells": [
  {
   "attachments": {},
   "cell_type": "markdown",
   "id": "436cd3c4-5d34-4820-b1ed-6be4c0739e93",
   "metadata": {},
   "source": [
    "# CNN vs MLP\n",
    "In this notebook it will be showed how to train a CNN and what are its advantages (and disanvantages) with respect to a fully connected network."
   ]
  },
  {
   "cell_type": "code",
   "execution_count": 1,
   "id": "cd788809-d878-4c4c-ac10-2457880c5b00",
   "metadata": {},
   "outputs": [
    {
     "name": "stderr",
     "output_type": "stream",
     "text": [
      "c:\\Users\\Alice\\AppData\\Local\\Programs\\Python\\Python310\\lib\\site-packages\\tqdm\\auto.py:22: TqdmWarning: IProgress not found. Please update jupyter and ipywidgets. See https://ipywidgets.readthedocs.io/en/stable/user_install.html\n",
      "  from .autonotebook import tqdm as notebook_tqdm\n"
     ]
    }
   ],
   "source": [
    "import torch\n",
    "import torch.nn as nn\n",
    "import torch.nn.functional as F\n",
    "import torch.optim as optim\n",
    "from torchvision import datasets, transforms\n",
    "import matplotlib.pyplot as plt\n",
    "import numpy"
   ]
  },
  {
   "cell_type": "code",
   "execution_count": 2,
   "id": "bd8dfccd-aa38-433c-bf97-11196763a355",
   "metadata": {},
   "outputs": [],
   "source": [
    "# function to count number of parameters\n",
    "def get_n_params(model):\n",
    "    np=0\n",
    "    for p in list(model.parameters()):\n",
    "        np += p.nelement()\n",
    "    return np"
   ]
  },
  {
   "attachments": {},
   "cell_type": "markdown",
   "id": "4211b204-67e2-4f3a-aeb6-328e45f08f0b",
   "metadata": {},
   "source": [
    "## Dataset Loading\n",
    "First step we need to load the dataset that will be used for train and test.\n",
    "\n",
    "In this case MNIST dataset will be used. MNIST consist in black and white images of handwritten digits between 0-9.\n",
    "\n",
    "Pytorch Dataloaders will be used for this task."
   ]
  },
  {
   "cell_type": "code",
   "execution_count": 3,
   "id": "7f329a51-c2ca-404d-8b04-42c56dc7125e",
   "metadata": {},
   "outputs": [
    {
     "name": "stdout",
     "output_type": "stream",
     "text": [
      "Downloading http://yann.lecun.com/exdb/mnist/train-images-idx3-ubyte.gz\n",
      "Downloading http://yann.lecun.com/exdb/mnist/train-images-idx3-ubyte.gz to ../data\\MNIST\\raw\\train-images-idx3-ubyte.gz\n"
     ]
    },
    {
     "name": "stderr",
     "output_type": "stream",
     "text": [
      "100%|██████████| 9912422/9912422 [00:00<00:00, 39222184.09it/s]\n"
     ]
    },
    {
     "name": "stdout",
     "output_type": "stream",
     "text": [
      "Extracting ../data\\MNIST\\raw\\train-images-idx3-ubyte.gz to ../data\\MNIST\\raw\n",
      "\n",
      "Downloading http://yann.lecun.com/exdb/mnist/train-labels-idx1-ubyte.gz\n",
      "Downloading http://yann.lecun.com/exdb/mnist/train-labels-idx1-ubyte.gz to ../data\\MNIST\\raw\\train-labels-idx1-ubyte.gz\n"
     ]
    },
    {
     "name": "stderr",
     "output_type": "stream",
     "text": [
      "100%|██████████| 28881/28881 [00:00<00:00, 29007589.52it/s]"
     ]
    },
    {
     "name": "stdout",
     "output_type": "stream",
     "text": [
      "Extracting ../data\\MNIST\\raw\\train-labels-idx1-ubyte.gz to ../data\\MNIST\\raw\n",
      "\n",
      "Downloading http://yann.lecun.com/exdb/mnist/t10k-images-idx3-ubyte.gz\n"
     ]
    },
    {
     "name": "stderr",
     "output_type": "stream",
     "text": [
      "\n"
     ]
    },
    {
     "name": "stdout",
     "output_type": "stream",
     "text": [
      "Downloading http://yann.lecun.com/exdb/mnist/t10k-images-idx3-ubyte.gz to ../data\\MNIST\\raw\\t10k-images-idx3-ubyte.gz\n"
     ]
    },
    {
     "name": "stderr",
     "output_type": "stream",
     "text": [
      "100%|██████████| 1648877/1648877 [00:00<00:00, 20673147.49it/s]"
     ]
    },
    {
     "name": "stdout",
     "output_type": "stream",
     "text": [
      "Extracting ../data\\MNIST\\raw\\t10k-images-idx3-ubyte.gz to ../data\\MNIST\\raw\n",
      "\n",
      "Downloading http://yann.lecun.com/exdb/mnist/t10k-labels-idx1-ubyte.gz\n"
     ]
    },
    {
     "name": "stderr",
     "output_type": "stream",
     "text": [
      "\n"
     ]
    },
    {
     "name": "stdout",
     "output_type": "stream",
     "text": [
      "Downloading http://yann.lecun.com/exdb/mnist/t10k-labels-idx1-ubyte.gz to ../data\\MNIST\\raw\\t10k-labels-idx1-ubyte.gz\n"
     ]
    },
    {
     "name": "stderr",
     "output_type": "stream",
     "text": [
      "100%|██████████| 4542/4542 [00:00<00:00, 4708484.62it/s]"
     ]
    },
    {
     "name": "stdout",
     "output_type": "stream",
     "text": [
      "Extracting ../data\\MNIST\\raw\\t10k-labels-idx1-ubyte.gz to ../data\\MNIST\\raw\n",
      "\n"
     ]
    },
    {
     "name": "stderr",
     "output_type": "stream",
     "text": [
      "\n"
     ]
    }
   ],
   "source": [
    "input_size  = 28*28   # images are 28x28 pixels\n",
    "output_size = 10      # there are 10 classes\n",
    "\n",
    "# TRAIN dataset\n",
    "# Pytorch already has some datasets available for downlaod\n",
    "train_dataset = datasets.MNIST('../data', train=True, download=True, \n",
    "                       # transforms that we want to apply when iterating the dataset\n",
    "                   transform=transforms.Compose([\n",
    "                       transforms.ToTensor(),\n",
    "                       # mean and std of MNIST dataset\n",
    "                       transforms.Normalize((0.1307,), (0.3081,))\n",
    "                   ]))\n",
    "\n",
    "# The dataloader will iterate through the dataset and load the data in memory\n",
    "train_loader = torch.utils.data.DataLoader(\n",
    "                        train_dataset,\n",
    "                        batch_size=64, shuffle=True)\n",
    "\n",
    "# TEST dataset\n",
    "test_loader = torch.utils.data.DataLoader(\n",
    "    datasets.MNIST('../data', train=False, transform=transforms.Compose([\n",
    "                       transforms.ToTensor(),\n",
    "                       transforms.Normalize((0.1307,), (0.3081,))\n",
    "                   ])),\n",
    "    batch_size=1000, shuffle=True)"
   ]
  },
  {
   "cell_type": "code",
   "execution_count": 4,
   "id": "35da7a46-3778-4225-baef-456c3d16d93a",
   "metadata": {},
   "outputs": [
    {
     "name": "stdout",
     "output_type": "stream",
     "text": [
      "60000 938\n"
     ]
    }
   ],
   "source": [
    "print(len(train_dataset), len(train_loader)) #WHY?"
   ]
  },
  {
   "cell_type": "code",
   "execution_count": 5,
   "id": "63e5dbf3-3317-4db1-83aa-2e36fa218d12",
   "metadata": {},
   "outputs": [],
   "source": [
    "# plotting libs\n",
    "from res.plot_lib import plot_data, plot_model, set_default\n",
    "set_default()"
   ]
  },
  {
   "cell_type": "code",
   "execution_count": 6,
   "id": "f9d8f5ac-0093-43a4-83d7-be458323bf86",
   "metadata": {},
   "outputs": [
    {
     "data": {
      "image/png": "[encoded data removed]",
      "text/plain": [
       "<Figure size 1152x432 with 10 Axes>"
      ]
     },
     "metadata": {
      "needs_background": "dark"
     },
     "output_type": "display_data"
    }
   ],
   "source": [
    "# show some images\n",
    "def denorm_mnist(x):\n",
    "    m = 0.1307\n",
    "    std = 0.3081\n",
    "    # denormalization operation = std*x + m\n",
    "    return x*std + m\n",
    "\n",
    "to_pil = transforms.ToPILImage()\n",
    "plt.figure(figsize=(16, 6))\n",
    "for i in range(10):\n",
    "    plt.subplot(2, 5, i + 1)\n",
    "    image, _ = train_loader.dataset.__getitem__(i) # load one image\n",
    "    plt.imshow(to_pil(denorm_mnist(image)))\n",
    "    plt.axis('off')"
   ]
  },
  {
   "attachments": {},
   "cell_type": "markdown",
   "id": "4494f259-b9c6-4edb-bf13-eedb2edbfcd6",
   "metadata": {},
   "source": [
    "## Network Definition\n",
    "Let's define and MLP and a CNN to solve the MNIST digit classification task."
   ]
  },
  {
   "cell_type": "code",
   "execution_count": 7,
   "id": "f08da12a-4dd9-42de-8900-fecabec661b8",
   "metadata": {},
   "outputs": [],
   "source": [
    "# MLP\n",
    "class FC2Layer(nn.Module):\n",
    "    def __init__(self, input_size, n_hidden, output_size):\n",
    "        super(FC2Layer, self).__init__()\n",
    "        self.input_size = input_size\n",
    "        self.network = nn.Sequential(\n",
    "            nn.Linear(input_size, n_hidden), \n",
    "            nn.ReLU(), \n",
    "            nn.Linear(n_hidden, n_hidden), \n",
    "            nn.ReLU(), \n",
    "            nn.Linear(n_hidden, output_size), \n",
    "            nn.LogSoftmax(dim=1)\n",
    "        )\n",
    "\n",
    "    def forward(self, x):\n",
    "        x = x.view(-1, self.input_size) # flatten\n",
    "        return self.network(x)\n",
    "\n",
    "# CNN\n",
    "class CNN(nn.Module):\n",
    "    def __init__(self, input_size, n_feature, output_size):\n",
    "        super(CNN, self).__init__()\n",
    "        self.n_feature = n_feature\n",
    "        \n",
    "        self.conv_block1 = nn.Sequential(\n",
    "            nn.Conv2d(in_channels=1, out_channels=n_feature, kernel_size=5),\n",
    "            nn.ReLU(),\n",
    "            nn.MaxPool2d(kernel_size=2))\n",
    "        \n",
    "        self.conv_block2 = nn.Sequential(\n",
    "            nn.Conv2d(in_channels=n_feature, out_channels=n_feature, kernel_size=5),\n",
    "            nn.ReLU(),\n",
    "            nn.MaxPool2d(kernel_size=2))\n",
    "\n",
    "        self.fc1 = nn.Linear(n_feature*4*4, 50)\n",
    "        self.fc2 = nn.Linear(50, 10)\n",
    "        \n",
    "    def forward(self, x, verbose=False):\n",
    "        x = self.conv_block1(x) # what is the output size?\n",
    "        x = self.conv_block2(x) # what is the output size?\n",
    "        x = x.view(-1, self.n_feature*4*4) # flatten\n",
    "        x = self.fc1(x)\n",
    "        x = F.relu(x)\n",
    "        x = self.fc2(x)\n",
    "        x = F.log_softmax(x, dim=1)\n",
    "        return x"
   ]
  },
  {
   "cell_type": "code",
   "execution_count": 8,
   "id": "b89131d8-3e7d-4a01-b6f7-5ab6c912bbad",
   "metadata": {},
   "outputs": [],
   "source": [
    "# set device\n",
    "device = torch.device(\"cuda:0\" if torch.cuda.is_available() else \"cpu\")"
   ]
  },
  {
   "cell_type": "code",
   "execution_count": 9,
   "id": "83fec976-2594-4333-ae34-c50dbb7b2081",
   "metadata": {},
   "outputs": [],
   "source": [
    "# define train and test function\n",
    "accuracy_list = []\n",
    "def train(epoch, model, optimizer, perm=None): #perm = torch.arange(0, 784).long()\n",
    "    model.train()\n",
    "    # dataloader will iterate the dataset and return images (data)\n",
    "    # and labels (target)\n",
    "    for batch_idx, (data, target) in enumerate(train_loader):\n",
    "        # send to device\n",
    "        data, target = data.to(device), target.to(device)\n",
    "        \n",
    "        # permute pixels\n",
    "        data = data.view(-1, 28*28)\n",
    "        data = data[:, perm]\n",
    "        data = data.view(-1, 1, 28, 28)\n",
    "\n",
    "        optimizer.zero_grad()\n",
    "        output = model(data)\n",
    "        loss = F.nll_loss(output, target)\n",
    "        loss.backward()\n",
    "        optimizer.step()\n",
    "        if batch_idx % 100 == 0:\n",
    "            print('Train Epoch: {} [{}/{} ({:.0f}%)]\\tLoss: {:.6f}'.format(\n",
    "                epoch, batch_idx * len(data), len(train_loader.dataset),\n",
    "                100. * batch_idx / len(train_loader), loss.item()))\n",
    "            \n",
    "def test(model, perm=None): #perm = torch.arange(0, 784).long()\n",
    "    model.eval()\n",
    "    test_loss = 0\n",
    "    correct = 0\n",
    "    for data, target in test_loader:\n",
    "        # send to device\n",
    "        data, target = data.to(device), target.to(device)\n",
    "        \n",
    "        # permute pixels\n",
    "        data = data.view(-1, 28*28)\n",
    "        data = data[:, perm]\n",
    "        data = data.view(-1, 1, 28, 28)\n",
    "        output = model(data)\n",
    "        test_loss += F.nll_loss(output, target, reduction='sum').item() # sum up batch loss                                                               \n",
    "        pred = output.data.max(1, keepdim=True)[1] # get the index of the max log-probability                                                                 \n",
    "        correct += pred.eq(target.data.view_as(pred)).cpu().sum().item()\n",
    "\n",
    "    test_loss /= len(test_loader.dataset)\n",
    "    accuracy = 100. * correct / len(test_loader.dataset)\n",
    "    accuracy_list.append(accuracy)\n",
    "    print('\\nTest set: Average loss: {:.4f}, Accuracy: {}/{} ({:.0f}%)\\n'.format(\n",
    "        test_loss, correct, len(test_loader.dataset),\n",
    "        accuracy))"
   ]
  },
  {
   "cell_type": "code",
   "execution_count": 10,
   "id": "be3da76c-6b08-40f1-b28c-751e11a6c698",
   "metadata": {},
   "outputs": [
    {
     "name": "stdout",
     "output_type": "stream",
     "text": [
      "Number of parameters: 6442\n",
      "Train Epoch: 0 [0/60000 (0%)]\tLoss: 2.347365\n",
      "Train Epoch: 0 [6400/60000 (11%)]\tLoss: 1.905356\n",
      "Train Epoch: 0 [12800/60000 (21%)]\tLoss: 1.268782\n",
      "Train Epoch: 0 [19200/60000 (32%)]\tLoss: 0.780531\n",
      "Train Epoch: 0 [25600/60000 (43%)]\tLoss: 0.851761\n",
      "Train Epoch: 0 [32000/60000 (53%)]\tLoss: 0.535288\n",
      "Train Epoch: 0 [38400/60000 (64%)]\tLoss: 0.489143\n",
      "Train Epoch: 0 [44800/60000 (75%)]\tLoss: 0.495623\n",
      "Train Epoch: 0 [51200/60000 (85%)]\tLoss: 0.454060\n",
      "Train Epoch: 0 [57600/60000 (96%)]\tLoss: 0.387391\n",
      "\n",
      "Test set: Average loss: 0.4396, Accuracy: 8706/10000 (87%)\n",
      "\n"
     ]
    }
   ],
   "source": [
    "n_hidden = 8 # number of hidden units\n",
    "\n",
    "model_fnn = FC2Layer(input_size, n_hidden, output_size)\n",
    "model_fnn.to(device)\n",
    "optimizer = optim.SGD(model_fnn.parameters(), lr=0.01, momentum=0.5)\n",
    "print('Number of parameters: {}'.format(get_n_params(model_fnn)))\n",
    "\n",
    "for epoch in range(0, 1):\n",
    "    train(epoch, model_fnn, optimizer)\n",
    "    test(model_fnn)"
   ]
  },
  {
   "cell_type": "code",
   "execution_count": 11,
   "id": "053418da-d315-4860-99e3-f65e9d5a8ca6",
   "metadata": {},
   "outputs": [
    {
     "name": "stdout",
     "output_type": "stream",
     "text": [
      "Number of parameters: 6422\n",
      "Train Epoch: 0 [0/60000 (0%)]\tLoss: 2.302632\n",
      "Train Epoch: 0 [6400/60000 (11%)]\tLoss: 1.300609\n",
      "Train Epoch: 0 [12800/60000 (21%)]\tLoss: 0.659892\n",
      "Train Epoch: 0 [19200/60000 (32%)]\tLoss: 0.334428\n",
      "Train Epoch: 0 [25600/60000 (43%)]\tLoss: 0.305432\n",
      "Train Epoch: 0 [32000/60000 (53%)]\tLoss: 0.334950\n",
      "Train Epoch: 0 [38400/60000 (64%)]\tLoss: 0.174283\n",
      "Train Epoch: 0 [44800/60000 (75%)]\tLoss: 0.156949\n",
      "Train Epoch: 0 [51200/60000 (85%)]\tLoss: 0.266278\n",
      "Train Epoch: 0 [57600/60000 (96%)]\tLoss: 0.250361\n",
      "\n",
      "Test set: Average loss: 0.1783, Accuracy: 9458/10000 (95%)\n",
      "\n"
     ]
    }
   ],
   "source": [
    "# Training settings \n",
    "n_features = 6 # number of feature maps\n",
    "\n",
    "model_cnn = CNN(input_size, n_features, output_size)\n",
    "model_cnn.to(device)\n",
    "optimizer = optim.SGD(model_cnn.parameters(), lr=0.01, momentum=0.5)\n",
    "print('Number of parameters: {}'.format(get_n_params(model_cnn)))\n",
    "\n",
    "for epoch in range(0, 1):\n",
    "    train(epoch, model_cnn, optimizer)\n",
    "    test(model_cnn)"
   ]
  },
  {
   "attachments": {},
   "cell_type": "markdown",
   "id": "e9f831af-b1c4-4016-a1a4-96fdff3e774a",
   "metadata": {},
   "source": [
    "The CNN performs much better that an MLP on images.\n",
    "\n",
    "Now let's try to shuffle the pixels!"
   ]
  },
  {
   "cell_type": "code",
   "execution_count": 12,
   "id": "29e84413-4a7a-4628-8ee2-56c9f8e5e6f4",
   "metadata": {},
   "outputs": [
    {
     "data": {
      "image/png": "[encoded data removed]",
      "text/plain": [
       "<Figure size 1152x864 with 20 Axes>"
      ]
     },
     "metadata": {
      "needs_background": "dark"
     },
     "output_type": "display_data"
    }
   ],
   "source": [
    "perm = torch.randperm(784)\n",
    "plt.figure(figsize=(16, 12))\n",
    "for i in range(10):\n",
    "    image, _ = train_loader.dataset.__getitem__(i)\n",
    "    # permute pixels\n",
    "    image_perm = image.view(-1, 28*28).clone()\n",
    "    image_perm = image_perm[:, perm]\n",
    "    image_perm = image_perm.view(-1, 1, 28, 28)\n",
    "    plt.subplot(4, 5, i + 1)\n",
    "    plt.imshow(to_pil(denorm_mnist(image.squeeze())))\n",
    "    plt.axis('off')\n",
    "    plt.subplot(4, 5, i + 11)\n",
    "    plt.imshow(to_pil(denorm_mnist(image_perm.squeeze())))\n",
    "    plt.axis('off')"
   ]
  },
  {
   "attachments": {},
   "cell_type": "markdown",
   "id": "d0cff7c8-22ec-4f42-b39c-6114743b58d0",
   "metadata": {},
   "source": [
    "### How the CNN will perform now?"
   ]
  },
  {
   "cell_type": "code",
   "execution_count": 13,
   "id": "f467d096-71b5-46e4-baaf-18332821b7f3",
   "metadata": {},
   "outputs": [
    {
     "name": "stdout",
     "output_type": "stream",
     "text": [
      "Number of parameters: 6422\n",
      "Train Epoch: 0 [0/60000 (0%)]\tLoss: 2.321012\n",
      "Train Epoch: 0 [6400/60000 (11%)]\tLoss: 2.297108\n",
      "Train Epoch: 0 [12800/60000 (21%)]\tLoss: 2.196325\n",
      "Train Epoch: 0 [19200/60000 (32%)]\tLoss: 1.831833\n",
      "Train Epoch: 0 [25600/60000 (43%)]\tLoss: 1.274496\n",
      "Train Epoch: 0 [32000/60000 (53%)]\tLoss: 1.092153\n",
      "Train Epoch: 0 [38400/60000 (64%)]\tLoss: 0.727910\n",
      "Train Epoch: 0 [44800/60000 (75%)]\tLoss: 0.815457\n",
      "Train Epoch: 0 [51200/60000 (85%)]\tLoss: 0.684457\n",
      "Train Epoch: 0 [57600/60000 (96%)]\tLoss: 0.499341\n",
      "\n",
      "Test set: Average loss: 0.5319, Accuracy: 8274/10000 (83%)\n",
      "\n"
     ]
    }
   ],
   "source": [
    "# Training settings \n",
    "n_features = 6 # number of feature maps\n",
    "\n",
    "model_cnn = CNN(input_size, n_features, output_size)\n",
    "model_cnn.to(device)\n",
    "optimizer = optim.SGD(model_cnn.parameters(), lr=0.01, momentum=0.5)\n",
    "print('Number of parameters: {}'.format(get_n_params(model_cnn)))\n",
    "\n",
    "for epoch in range(0, 1):\n",
    "    train(epoch, model_cnn, optimizer, perm)\n",
    "    test(model_cnn, perm)"
   ]
  },
  {
   "attachments": {},
   "cell_type": "markdown",
   "id": "4c65a14e-3923-4473-92e4-619b880743e7",
   "metadata": {},
   "source": [
    "### How about the MLP?"
   ]
  },
  {
   "cell_type": "code",
   "execution_count": 14,
   "id": "6e0b3f64-c948-40f1-af46-e0e46dfbfd13",
   "metadata": {},
   "outputs": [
    {
     "name": "stdout",
     "output_type": "stream",
     "text": [
      "Number of parameters: 6442\n",
      "Train Epoch: 0 [0/60000 (0%)]\tLoss: 2.305163\n",
      "Train Epoch: 0 [6400/60000 (11%)]\tLoss: 1.976286\n",
      "Train Epoch: 0 [12800/60000 (21%)]\tLoss: 1.323047\n",
      "Train Epoch: 0 [19200/60000 (32%)]\tLoss: 1.212162\n",
      "Train Epoch: 0 [25600/60000 (43%)]\tLoss: 0.881762\n",
      "Train Epoch: 0 [32000/60000 (53%)]\tLoss: 0.565680\n",
      "Train Epoch: 0 [38400/60000 (64%)]\tLoss: 0.563498\n",
      "Train Epoch: 0 [44800/60000 (75%)]\tLoss: 0.523308\n",
      "Train Epoch: 0 [51200/60000 (85%)]\tLoss: 0.534226\n",
      "Train Epoch: 0 [57600/60000 (96%)]\tLoss: 0.456497\n",
      "\n",
      "Test set: Average loss: 0.4704, Accuracy: 8555/10000 (86%)\n",
      "\n"
     ]
    }
   ],
   "source": [
    "n_hidden = 8    # number of hidden units\n",
    "\n",
    "model_fnn = FC2Layer(input_size, n_hidden, output_size)\n",
    "model_fnn.to(device)\n",
    "optimizer = optim.SGD(model_fnn.parameters(), lr=0.01, momentum=0.5)\n",
    "print('Number of parameters: {}'.format(get_n_params(model_fnn)))\n",
    "\n",
    "for epoch in range(0, 1):\n",
    "    train(epoch, model_fnn, optimizer, perm)\n",
    "    test(model_fnn, perm)"
   ]
  },
  {
   "attachments": {},
   "cell_type": "markdown",
   "id": "4231526d-b194-477f-a36b-e013853ca5bf",
   "metadata": {},
   "source": [
    "### The CNN performances dropped!!!\n",
    "WHY? The concept of locality was lost: pixel are no longer stationary on a grid"
   ]
  },
  {
   "cell_type": "code",
   "execution_count": 15,
   "id": "a01ec1c8-a8ce-4bc0-b0cc-c8cfe16fed09",
   "metadata": {},
   "outputs": [
    {
     "data": {
      "image/png": "[encoded data removed]",
      "text/plain": [
       "<Figure size 432x288 with 1 Axes>"
      ]
     },
     "metadata": {
      "needs_background": "dark"
     },
     "output_type": "display_data"
    }
   ],
   "source": [
    "plt.bar(('NN image', 'CNN image',\n",
    "         'CNN scrambled', 'NN scrambled'),\n",
    "        accuracy_list, width=0.4, color = ['red', 'green', 'green', 'red'])\n",
    "plt.ylim((min(accuracy_list)-5, 96))\n",
    "plt.ylabel('Accuracy [%]')\n",
    "for tick in plt.gca().xaxis.get_major_ticks():\n",
    "    tick.label.set_fontsize(20)\n",
    "plt.title('Performance comparison');"
   ]
  }
 ],
 "metadata": {
  "kernelspec": {
   "display_name": "Python 3",
   "language": "python",
   "name": "python3"
  },
  "language_info": {
   "codemirror_mode": {
    "name": "ipython",
    "version": 3
   },
   "file_extension": ".py",
   "mimetype": "text/x-python",
   "name": "python",
   "nbconvert_exporter": "python",
   "pygments_lexer": "ipython3",
   "version": "3.10.2"
  }
 },
 "nbformat": 4,
 "nbformat_minor": 5
}
